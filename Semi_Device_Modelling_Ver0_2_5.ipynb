{
  "nbformat": 4,
  "nbformat_minor": 0,
  "metadata": {
    "kernelspec": {
      "display_name": "Python 3",
      "language": "python",
      "name": "python3"
    },
    "language_info": {
      "codemirror_mode": {
        "name": "ipython",
        "version": 3
      },
      "file_extension": ".py",
      "mimetype": "text/x-python",
      "name": "python",
      "nbconvert_exporter": "python",
      "pygments_lexer": "ipython3",
      "version": "3.7.4"
    },
    "colab": {
      "name": "Semi_Device_Modelling_Ver0-2-5.ipynb",
      "provenance": [],
      "collapsed_sections": [],
      "include_colab_link": true
    },
    "widgets": {
      "application/vnd.jupyter.widget-state+json": {
        "52ffe2c25d13453ebda1f5df7b5aa5e6": {
          "model_module": "@jupyter-widgets/controls",
          "model_name": "VBoxModel",
          "state": {
            "_view_name": "VBoxView",
            "_dom_classes": [
              "widget-interact"
            ],
            "_model_name": "VBoxModel",
            "_view_module": "@jupyter-widgets/controls",
            "_model_module_version": "1.5.0",
            "_view_count": null,
            "_view_module_version": "1.5.0",
            "box_style": "",
            "layout": "IPY_MODEL_cc4592c809c4405593611a6c36d906b8",
            "_model_module": "@jupyter-widgets/controls",
            "children": [
              "IPY_MODEL_32dfe5af06fc4b2eb1b79fed15f3fb6d",
              "IPY_MODEL_566e723aad9e4218a9d240143ab01190",
              "IPY_MODEL_a594cbdc667e4db99c1eb6b8fcc351a4",
              "IPY_MODEL_f8bd1362fd4f4ec1bffb7d19f7f600cd",
              "IPY_MODEL_f9c119a9182a488aaa0199c111d8f836"
            ]
          }
        },
        "cc4592c809c4405593611a6c36d906b8": {
          "model_module": "@jupyter-widgets/base",
          "model_name": "LayoutModel",
          "state": {
            "_view_name": "LayoutView",
            "grid_template_rows": null,
            "right": null,
            "justify_content": null,
            "_view_module": "@jupyter-widgets/base",
            "overflow": null,
            "_model_module_version": "1.2.0",
            "_view_count": null,
            "flex_flow": null,
            "width": null,
            "min_width": null,
            "border": null,
            "align_items": null,
            "bottom": null,
            "_model_module": "@jupyter-widgets/base",
            "top": null,
            "grid_column": null,
            "overflow_y": null,
            "overflow_x": null,
            "grid_auto_flow": null,
            "grid_area": null,
            "grid_template_columns": null,
            "flex": null,
            "_model_name": "LayoutModel",
            "justify_items": null,
            "grid_row": null,
            "max_height": null,
            "align_content": null,
            "visibility": null,
            "align_self": null,
            "height": null,
            "min_height": null,
            "padding": null,
            "grid_auto_rows": null,
            "grid_gap": null,
            "max_width": null,
            "order": null,
            "_view_module_version": "1.2.0",
            "grid_template_areas": null,
            "object_position": null,
            "object_fit": null,
            "grid_auto_columns": null,
            "margin": null,
            "display": null,
            "left": null
          }
        },
        "32dfe5af06fc4b2eb1b79fed15f3fb6d": {
          "model_module": "@jupyter-widgets/controls",
          "model_name": "FloatSliderModel",
          "state": {
            "_view_name": "FloatSliderView",
            "style": "IPY_MODEL_d7cf2a5b62af46c7ac1dcff1bc93f069",
            "_dom_classes": [],
            "description": "vG",
            "step": 0.25,
            "_model_name": "FloatSliderModel",
            "orientation": "horizontal",
            "max": 5,
            "_view_module": "@jupyter-widgets/controls",
            "_model_module_version": "1.5.0",
            "value": 0.5,
            "_view_count": null,
            "disabled": false,
            "_view_module_version": "1.5.0",
            "min": 0,
            "continuous_update": true,
            "readout_format": ".2f",
            "description_tooltip": null,
            "readout": true,
            "_model_module": "@jupyter-widgets/controls",
            "layout": "IPY_MODEL_ad5c023e3cc549878afcc5f27370e25e"
          }
        },
        "566e723aad9e4218a9d240143ab01190": {
          "model_module": "@jupyter-widgets/controls",
          "model_name": "DropdownModel",
          "state": {
            "_options_labels": [
              "blue",
              "red",
              "green"
            ],
            "_view_name": "DropdownView",
            "style": "IPY_MODEL_66648b4ef72d4ee8bf4c4e852bd1ddf6",
            "_dom_classes": [],
            "description": "color",
            "_model_name": "DropdownModel",
            "index": 0,
            "_view_module": "@jupyter-widgets/controls",
            "_model_module_version": "1.5.0",
            "_view_count": null,
            "disabled": false,
            "_view_module_version": "1.5.0",
            "description_tooltip": null,
            "_model_module": "@jupyter-widgets/controls",
            "layout": "IPY_MODEL_80e4b19933374caf9c796be69668b8cc"
          }
        },
        "a594cbdc667e4db99c1eb6b8fcc351a4": {
          "model_module": "@jupyter-widgets/controls",
          "model_name": "FloatSliderModel",
          "state": {
            "_view_name": "FloatSliderView",
            "style": "IPY_MODEL_edb03781848a4cb1811ba5afb19c4a68",
            "_dom_classes": [],
            "description": "vDmax",
            "step": 1,
            "_model_name": "FloatSliderModel",
            "orientation": "horizontal",
            "max": 20,
            "_view_module": "@jupyter-widgets/controls",
            "_model_module_version": "1.5.0",
            "value": 10,
            "_view_count": null,
            "disabled": false,
            "_view_module_version": "1.5.0",
            "min": 1,
            "continuous_update": true,
            "readout_format": ".2f",
            "description_tooltip": null,
            "readout": true,
            "_model_module": "@jupyter-widgets/controls",
            "layout": "IPY_MODEL_eceafa2da0d548fcabbfb06a2b942d8b"
          }
        },
        "f8bd1362fd4f4ec1bffb7d19f7f600cd": {
          "model_module": "@jupyter-widgets/controls",
          "model_name": "CheckboxModel",
          "state": {
            "_view_name": "CheckboxView",
            "style": "IPY_MODEL_72dd6253302949f3b6b7c29958749253",
            "_dom_classes": [],
            "description": "grid",
            "_model_name": "CheckboxModel",
            "_view_module": "@jupyter-widgets/controls",
            "_model_module_version": "1.5.0",
            "value": false,
            "_view_count": null,
            "disabled": false,
            "_view_module_version": "1.5.0",
            "indent": true,
            "description_tooltip": null,
            "_model_module": "@jupyter-widgets/controls",
            "layout": "IPY_MODEL_14cbd35ff5914a83a1b9b6bc985ff978"
          }
        },
        "f9c119a9182a488aaa0199c111d8f836": {
          "model_module": "@jupyter-widgets/output",
          "model_name": "OutputModel",
          "state": {
            "_view_name": "OutputView",
            "msg_id": "",
            "_dom_classes": [],
            "_model_name": "OutputModel",
            "outputs": [
              {
                "output_type": "stream",
                "metadata": {
                  "tags": []
                },
                "text": "/usr/local/lib/python3.6/dist-packages/ipykernel_launcher.py:3: RuntimeWarning: invalid value encountered in sqrt\n  This is separate from the ipykernel package so we can avoid doing imports until\n",
                "stream": "stderr"
              },
              {
                "output_type": "display_data",
                "metadata": {
                  "tags": [],
                  "needs_background": "light"
                },
                "image/png": "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\n",
                "text/plain": "<Figure size 576x432 with 1 Axes>"
              }
            ],
            "_view_module": "@jupyter-widgets/output",
            "_model_module_version": "1.0.0",
            "_view_count": null,
            "_view_module_version": "1.0.0",
            "layout": "IPY_MODEL_6d249ee009644ee4bf0316406f6e3f33",
            "_model_module": "@jupyter-widgets/output"
          }
        },
        "d7cf2a5b62af46c7ac1dcff1bc93f069": {
          "model_module": "@jupyter-widgets/controls",
          "model_name": "SliderStyleModel",
          "state": {
            "_view_name": "StyleView",
            "handle_color": null,
            "_model_name": "SliderStyleModel",
            "description_width": "",
            "_view_module": "@jupyter-widgets/base",
            "_model_module_version": "1.5.0",
            "_view_count": null,
            "_view_module_version": "1.2.0",
            "_model_module": "@jupyter-widgets/controls"
          }
        },
        "ad5c023e3cc549878afcc5f27370e25e": {
          "model_module": "@jupyter-widgets/base",
          "model_name": "LayoutModel",
          "state": {
            "_view_name": "LayoutView",
            "grid_template_rows": null,
            "right": null,
            "justify_content": null,
            "_view_module": "@jupyter-widgets/base",
            "overflow": null,
            "_model_module_version": "1.2.0",
            "_view_count": null,
            "flex_flow": null,
            "width": null,
            "min_width": null,
            "border": null,
            "align_items": null,
            "bottom": null,
            "_model_module": "@jupyter-widgets/base",
            "top": null,
            "grid_column": null,
            "overflow_y": null,
            "overflow_x": null,
            "grid_auto_flow": null,
            "grid_area": null,
            "grid_template_columns": null,
            "flex": null,
            "_model_name": "LayoutModel",
            "justify_items": null,
            "grid_row": null,
            "max_height": null,
            "align_content": null,
            "visibility": null,
            "align_self": null,
            "height": null,
            "min_height": null,
            "padding": null,
            "grid_auto_rows": null,
            "grid_gap": null,
            "max_width": null,
            "order": null,
            "_view_module_version": "1.2.0",
            "grid_template_areas": null,
            "object_position": null,
            "object_fit": null,
            "grid_auto_columns": null,
            "margin": null,
            "display": null,
            "left": null
          }
        },
        "66648b4ef72d4ee8bf4c4e852bd1ddf6": {
          "model_module": "@jupyter-widgets/controls",
          "model_name": "DescriptionStyleModel",
          "state": {
            "_view_name": "StyleView",
            "_model_name": "DescriptionStyleModel",
            "description_width": "",
            "_view_module": "@jupyter-widgets/base",
            "_model_module_version": "1.5.0",
            "_view_count": null,
            "_view_module_version": "1.2.0",
            "_model_module": "@jupyter-widgets/controls"
          }
        },
        "80e4b19933374caf9c796be69668b8cc": {
          "model_module": "@jupyter-widgets/base",
          "model_name": "LayoutModel",
          "state": {
            "_view_name": "LayoutView",
            "grid_template_rows": null,
            "right": null,
            "justify_content": null,
            "_view_module": "@jupyter-widgets/base",
            "overflow": null,
            "_model_module_version": "1.2.0",
            "_view_count": null,
            "flex_flow": null,
            "width": null,
            "min_width": null,
            "border": null,
            "align_items": null,
            "bottom": null,
            "_model_module": "@jupyter-widgets/base",
            "top": null,
            "grid_column": null,
            "overflow_y": null,
            "overflow_x": null,
            "grid_auto_flow": null,
            "grid_area": null,
            "grid_template_columns": null,
            "flex": null,
            "_model_name": "LayoutModel",
            "justify_items": null,
            "grid_row": null,
            "max_height": null,
            "align_content": null,
            "visibility": null,
            "align_self": null,
            "height": null,
            "min_height": null,
            "padding": null,
            "grid_auto_rows": null,
            "grid_gap": null,
            "max_width": null,
            "order": null,
            "_view_module_version": "1.2.0",
            "grid_template_areas": null,
            "object_position": null,
            "object_fit": null,
            "grid_auto_columns": null,
            "margin": null,
            "display": null,
            "left": null
          }
        },
        "edb03781848a4cb1811ba5afb19c4a68": {
          "model_module": "@jupyter-widgets/controls",
          "model_name": "SliderStyleModel",
          "state": {
            "_view_name": "StyleView",
            "handle_color": null,
            "_model_name": "SliderStyleModel",
            "description_width": "",
            "_view_module": "@jupyter-widgets/base",
            "_model_module_version": "1.5.0",
            "_view_count": null,
            "_view_module_version": "1.2.0",
            "_model_module": "@jupyter-widgets/controls"
          }
        },
        "eceafa2da0d548fcabbfb06a2b942d8b": {
          "model_module": "@jupyter-widgets/base",
          "model_name": "LayoutModel",
          "state": {
            "_view_name": "LayoutView",
            "grid_template_rows": null,
            "right": null,
            "justify_content": null,
            "_view_module": "@jupyter-widgets/base",
            "overflow": null,
            "_model_module_version": "1.2.0",
            "_view_count": null,
            "flex_flow": null,
            "width": null,
            "min_width": null,
            "border": null,
            "align_items": null,
            "bottom": null,
            "_model_module": "@jupyter-widgets/base",
            "top": null,
            "grid_column": null,
            "overflow_y": null,
            "overflow_x": null,
            "grid_auto_flow": null,
            "grid_area": null,
            "grid_template_columns": null,
            "flex": null,
            "_model_name": "LayoutModel",
            "justify_items": null,
            "grid_row": null,
            "max_height": null,
            "align_content": null,
            "visibility": null,
            "align_self": null,
            "height": null,
            "min_height": null,
            "padding": null,
            "grid_auto_rows": null,
            "grid_gap": null,
            "max_width": null,
            "order": null,
            "_view_module_version": "1.2.0",
            "grid_template_areas": null,
            "object_position": null,
            "object_fit": null,
            "grid_auto_columns": null,
            "margin": null,
            "display": null,
            "left": null
          }
        },
        "72dd6253302949f3b6b7c29958749253": {
          "model_module": "@jupyter-widgets/controls",
          "model_name": "DescriptionStyleModel",
          "state": {
            "_view_name": "StyleView",
            "_model_name": "DescriptionStyleModel",
            "description_width": "",
            "_view_module": "@jupyter-widgets/base",
            "_model_module_version": "1.5.0",
            "_view_count": null,
            "_view_module_version": "1.2.0",
            "_model_module": "@jupyter-widgets/controls"
          }
        },
        "14cbd35ff5914a83a1b9b6bc985ff978": {
          "model_module": "@jupyter-widgets/base",
          "model_name": "LayoutModel",
          "state": {
            "_view_name": "LayoutView",
            "grid_template_rows": null,
            "right": null,
            "justify_content": null,
            "_view_module": "@jupyter-widgets/base",
            "overflow": null,
            "_model_module_version": "1.2.0",
            "_view_count": null,
            "flex_flow": null,
            "width": null,
            "min_width": null,
            "border": null,
            "align_items": null,
            "bottom": null,
            "_model_module": "@jupyter-widgets/base",
            "top": null,
            "grid_column": null,
            "overflow_y": null,
            "overflow_x": null,
            "grid_auto_flow": null,
            "grid_area": null,
            "grid_template_columns": null,
            "flex": null,
            "_model_name": "LayoutModel",
            "justify_items": null,
            "grid_row": null,
            "max_height": null,
            "align_content": null,
            "visibility": null,
            "align_self": null,
            "height": null,
            "min_height": null,
            "padding": null,
            "grid_auto_rows": null,
            "grid_gap": null,
            "max_width": null,
            "order": null,
            "_view_module_version": "1.2.0",
            "grid_template_areas": null,
            "object_position": null,
            "object_fit": null,
            "grid_auto_columns": null,
            "margin": null,
            "display": null,
            "left": null
          }
        },
        "6d249ee009644ee4bf0316406f6e3f33": {
          "model_module": "@jupyter-widgets/base",
          "model_name": "LayoutModel",
          "state": {
            "_view_name": "LayoutView",
            "grid_template_rows": null,
            "right": null,
            "justify_content": null,
            "_view_module": "@jupyter-widgets/base",
            "overflow": null,
            "_model_module_version": "1.2.0",
            "_view_count": null,
            "flex_flow": null,
            "width": null,
            "min_width": null,
            "border": null,
            "align_items": null,
            "bottom": null,
            "_model_module": "@jupyter-widgets/base",
            "top": null,
            "grid_column": null,
            "overflow_y": null,
            "overflow_x": null,
            "grid_auto_flow": null,
            "grid_area": null,
            "grid_template_columns": null,
            "flex": null,
            "_model_name": "LayoutModel",
            "justify_items": null,
            "grid_row": null,
            "max_height": null,
            "align_content": null,
            "visibility": null,
            "align_self": null,
            "height": null,
            "min_height": null,
            "padding": null,
            "grid_auto_rows": null,
            "grid_gap": null,
            "max_width": null,
            "order": null,
            "_view_module_version": "1.2.0",
            "grid_template_areas": null,
            "object_position": null,
            "object_fit": null,
            "grid_auto_columns": null,
            "margin": null,
            "display": null,
            "left": null
          }
        }
      }
    }
  },
  "cells": [
    {
      "cell_type": "markdown",
      "metadata": {
        "id": "view-in-github",
        "colab_type": "text"
      },
      "source": [
        "<a href=\"https://colab.research.google.com/github/balumhenderson/Masters_Project/blob/master/Semi_Device_Modelling_Ver0_2_5.ipynb\" target=\"_parent\"><img src=\"https://colab.research.google.com/assets/colab-badge.svg\" alt=\"Open In Colab\"/></a>"
      ]
    },
    {
      "cell_type": "code",
      "metadata": {
        "id": "CvVBV6_emip7",
        "colab_type": "code",
        "colab": {}
      },
      "source": [
        "# The aim for this project is to be able to simply model the characteristics of a semiconductor device given a number\n",
        "# of properties of the device"
      ],
      "execution_count": 0,
      "outputs": []
    },
    {
      "cell_type": "code",
      "metadata": {
        "id": "xkAqt6llmiqE",
        "colab_type": "code",
        "colab": {}
      },
      "source": [
        "import numpy as np\n",
        "import pandas as pd\n",
        "from scipy import constants as spcon\n",
        "import matplotlib.pyplot as plt\n",
        "from matplotlib.widgets import Slider, Button, RadioButtons\n",
        "plt.rcParams['figure.figsize'] = [15, 7]\n",
        "\n",
        "\n",
        "%matplotlib inline\n",
        "from ipywidgets import *"
      ],
      "execution_count": 0,
      "outputs": []
    },
    {
      "cell_type": "code",
      "metadata": {
        "id": "8GSPev2NmiqO",
        "colab_type": "code",
        "colab": {}
      },
      "source": [
        "#Define the scientific constants necessary for the modelling\n",
        "q = spcon.elementary_charge #units of C\n",
        "perm0 = spcon.epsilon_0 #units of F/m\n",
        "kB = spcon.k / (1.602177 * (10 **-19)) #units of eV/K\n",
        "\n",
        "#Define the material properties relevant to this specific system\n",
        "permS = 11.68\n",
        "semiWF = 4.47 #units of eV\n",
        "metalWF = 4.88 #units of eC\n",
        "dopeConc = (1 * 10 ** 20) #in units of cm^-3\n",
        "hMob = 450 #units of cm^2/V.s\n",
        "\n",
        "#Define the device parameters, such as gate length, gate width and channel depth\n",
        "lGate = 20 * 10 ** (-4) #in units of cm\n",
        "wGate = 200 * 10 ** (-4) #in units of cm\n",
        "dChan = 100 * 10 ** (-7) #in units of cm"
      ],
      "execution_count": 0,
      "outputs": []
    },
    {
      "cell_type": "code",
      "metadata": {
        "id": "D503eOj2WyGL",
        "colab_type": "code",
        "colab": {}
      },
      "source": [
        "#Calculate the built in voltage for the device\n",
        "vBI = (metalWF - semiWF)\n",
        "#Calculate the pinch-off voltage\n",
        "vP = q*((dopeConc * dChan**2) / (2 * (permS * perm0)))"
      ],
      "execution_count": 0,
      "outputs": []
    },
    {
      "cell_type": "markdown",
      "metadata": {
        "id": "bC90GzH6Zjpq",
        "colab_type": "text"
      },
      "source": [
        "The built-in voltage of the MESFET is calculated using:\n",
        "$$V_{bi} = \\sigma_{m} - \\sigma_{s}$$\n",
        "\n",
        "---\n",
        "\n",
        "The pinch-off voltage is calculated using:\n",
        "$$V_P = q\\cdot\\frac{p\\cdot d^2}{2\\cdot\\epsilon_S\\cdot\\epsilon_0}$$"
      ]
    },
    {
      "cell_type": "code",
      "metadata": {
        "id": "HhDZhOiiWsXd",
        "colab_type": "code",
        "colab": {}
      },
      "source": [
        "#Define the input array for the current calculation\n",
        "inputs = np.array([q, permS, perm0, hMob, wGate, dopeConc, dChan, lGate, vBI, vP])"
      ],
      "execution_count": 0,
      "outputs": []
    },
    {
      "cell_type": "code",
      "metadata": {
        "id": "rszNnkApmiqT",
        "colab_type": "code",
        "colab": {}
      },
      "source": [
        "#Calculate the depth of the depletion region in the MESFET (ie the region in which current is restricted)\n",
        "#Only consider the built-in voltage\n",
        "def BIDepletionDepth(inputs):\n",
        "    q, permS, perm0, hMob, wGate, dopeConc, dChan, lGate, vBI, vP = inputs\n",
        "    depth = np.sqrt(((2*permS*perm0)/(q*dopeConc))*(vBI))\n",
        "    return depth"
      ],
      "execution_count": 0,
      "outputs": []
    },
    {
      "cell_type": "code",
      "metadata": {
        "id": "-j0aM67KmiqZ",
        "colab_type": "code",
        "colab": {}
      },
      "source": [
        "#Calculate the depth of the depletion region in the MESFET (ie the region in which current is restricted)\n",
        "#Consider the built-in voltage and the gate voltage\n",
        "def BIGDepletionDepth(inputs, vG):\n",
        "    q, permS, perm0, hMob, wGate, dopeConc, dChan, lGate, vBI, vP = inputs\n",
        "    depth = np.sqrt(((2*permS*perm0)/(q*dopeConc))*(vBI + vG))\n",
        "    return depth"
      ],
      "execution_count": 0,
      "outputs": []
    },
    {
      "cell_type": "code",
      "metadata": {
        "id": "Vs4fuxtImiqg",
        "colab_type": "code",
        "colab": {}
      },
      "source": [
        "#Calculate the depth of the depletion region in the MESFET (ie the region in which current is restricted)\n",
        "#Consider the built-in voltage, the gate voltage and the drain voltage\n",
        "def TotDepletionDepth(inputs, vG, vD):\n",
        "    q, permS, perm0, hMob, wGate, dopeConc, dChan, lGate, vBI, vP = inputs\n",
        "    depth = np.sqrt(((2*permS*perm0)/(q*dopeConc))*(vBI + vG + vD))\n",
        "    return depth"
      ],
      "execution_count": 0,
      "outputs": []
    },
    {
      "cell_type": "markdown",
      "metadata": {
        "id": "NBoRf7GBcD0J",
        "colab_type": "text"
      },
      "source": [
        "The depletion depths during different modes of operation are found using the following functions;\n",
        "\n",
        "For just $V_{bi}$, the depletion depth is found using:\n",
        "$$D_{depletion} = \\sqrt{\\frac{2\\cdot\\epsilon_S\\cdot\\epsilon_0}{q\\cdot p}\\cdot V_{bi}}$$\n",
        "\n",
        "---\n",
        "\n",
        "For $V_{bi}$ & $V_G$ the depletion depth is:\n",
        "$$D_{depletion} = \\sqrt{\\frac{2\\cdot\\epsilon_S\\cdot\\epsilon_0}{q\\cdot p}\\cdot V_{bi} + V_G}$$\n",
        "\n",
        "---\n",
        "\n",
        "And considering $V_{bi}$, $V_G$, and $V_D$ the depletion depth is:\n",
        "$$D_{depletion} = \\sqrt{\\frac{2\\cdot\\epsilon_S\\cdot\\epsilon_0}{q\\cdot p}\\cdot V_{bi} + V_G + V_D}$$\n"
      ]
    },
    {
      "cell_type": "code",
      "metadata": {
        "id": "dx-LbMQlmiqm",
        "colab_type": "code",
        "colab": {}
      },
      "source": [
        "#Calculate the drain current based on the operating mode of the MESFET (ie taking into account vG and vD)\n",
        "def DrainCurrent(inputs, vG, vD):\n",
        "    \n",
        "    q, permS, perm0, hMob, wGate, dopeConc, dChan, lGate, vBI, vP, = inputs\n",
        "    coeff = 2 * q * hMob * wGate * dopeConc * dChan / lGate\n",
        "    depthBIG = BIGDepletionDepth(inputs, vG)\n",
        "    depthTot = TotDepletionDepth(inputs, vG, vD)\n",
        "    \n",
        "    #Define the array that will hold the values for the current\n",
        "    iD = np.zeros(len(vD))\n",
        "    iDSat = 0.0\n",
        "\n",
        "    for i in range(len(vD)):\n",
        "        #Calculate the saturation current, which is reached when vD = VDSat\n",
        "        iDSat = coeff * (vG - vBI + vP - (2/3)*(vP - ((vG - vBI)/np.sqrt(vP))**(1.5)))          \n",
        "        depDepth = max(depthBIG, depthTot[i])\n",
        "        if depDepth >= dChan:\n",
        "            iD[i] = 0\n",
        "        elif vD[i] >= (vG - vBI + vP):\n",
        "            iD[i] = iDSat[i]\n",
        "        elif vD[i] < (vG - vBI + vP) and vD[i] > 0:\n",
        "            GDTerm = ((vG - vBI + vD[i])/np.sqrt(vP))\n",
        "            GTerm = ((vG - vBI)/np.sqrt(vP))\n",
        "            iD[i] = coeff * (vD[i] - (2/3)*(GDTerm**(1.5) - GTerm**(1.5)))\n",
        "        else:\n",
        "            iD[i] = 0\n",
        "\n",
        "    return iD, iDSat"
      ],
      "execution_count": 0,
      "outputs": []
    },
    {
      "cell_type": "markdown",
      "metadata": {
        "id": "vjL0E6D6eZT2",
        "colab_type": "text"
      },
      "source": [
        "The current through the device is calculated for the various operating modes as follows:\n",
        "\n",
        "---\n",
        "\n",
        "If the depletion depth is greater than the channel depth, then\n",
        "$$I_D = 0$$\n",
        "\n",
        "---\n",
        "\n",
        "If the $V_D \\geq V_G - V_{bi} + V_P$ then\n",
        "$$I_D = I_{D(sat)} = \\frac{2 q\\cdot h_{mob}\\cdot W\\cdot p\\cdot d}{L}(V_G - V_{bi} + V_P - (\\frac{2}{3})(V_P - ({\\frac{V_G - V_{bi}}{\\sqrt{V_P}})^\\frac{3}{2}}))$$\n",
        "\n",
        "---\n",
        "\n",
        "If the $V_D \\lt V_G - V_{bi} + V_P$ then\n",
        "$$I_D = \\frac{2 q\\cdot h_{mob}\\cdot W\\cdot p\\cdot d}{L}(V_D - (\\frac{2}{3})((\\frac{V_G-V_{bi}+V_D}{\\sqrt{V_P}})^\\frac{3}{2}-(\\frac{V_G-V_{bi}}{\\sqrt{V_P}})^\\frac{3}{2}))$$\n",
        "\n",
        "---\n",
        "\n",
        "Else the default is $I_D=0$."
      ]
    },
    {
      "cell_type": "code",
      "metadata": {
        "id": "FROuW7Apmiq3",
        "colab_type": "code",
        "outputId": "0ea5fc02-25d1-48b2-f5ae-ca993a33133b",
        "colab": {
          "base_uri": "https://localhost:8080/",
          "height": 537,
          "referenced_widgets": [
            "52ffe2c25d13453ebda1f5df7b5aa5e6",
            "cc4592c809c4405593611a6c36d906b8",
            "32dfe5af06fc4b2eb1b79fed15f3fb6d",
            "566e723aad9e4218a9d240143ab01190",
            "a594cbdc667e4db99c1eb6b8fcc351a4",
            "f8bd1362fd4f4ec1bffb7d19f7f600cd",
            "f9c119a9182a488aaa0199c111d8f836",
            "d7cf2a5b62af46c7ac1dcff1bc93f069",
            "ad5c023e3cc549878afcc5f27370e25e",
            "66648b4ef72d4ee8bf4c4e852bd1ddf6",
            "80e4b19933374caf9c796be69668b8cc",
            "edb03781848a4cb1811ba5afb19c4a68",
            "eceafa2da0d548fcabbfb06a2b942d8b",
            "72dd6253302949f3b6b7c29958749253",
            "14cbd35ff5914a83a1b9b6bc985ff978",
            "6d249ee009644ee4bf0316406f6e3f33"
          ]
        }
      },
      "source": [
        "\n",
        "\n",
        "@widgets.interact(\n",
        "    color=['blue', 'red', 'green'], vDmax=(1., 20., 1.), vG=(0.0, 5.0, 0.25))\n",
        "def plot(vG=0.50, color='blue', vDmax=10, grid=False):\n",
        "    vD = np.linspace(-1., vDmax, 10000)\n",
        "    fig, ax = plt.subplots(1, 1, figsize=(8, 6))\n",
        "    ax.plot(vD, DrainCurrent(inputs, vG, vD)[0], color=color)\n",
        "    ax.grid(grid)\n"
      ],
      "execution_count": 50,
      "outputs": [
        {
          "output_type": "display_data",
          "data": {
            "application/vnd.jupyter.widget-view+json": {
              "model_id": "52ffe2c25d13453ebda1f5df7b5aa5e6",
              "version_minor": 0,
              "version_major": 2
            },
            "text/plain": [
              "interactive(children=(FloatSlider(value=0.5, description='vG', max=5.0, step=0.25), Dropdown(description='colo…"
            ]
          },
          "metadata": {
            "tags": []
          }
        }
      ]
    }
  ]
}